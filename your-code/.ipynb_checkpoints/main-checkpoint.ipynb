{
 "cells": [
  {
   "cell_type": "markdown",
   "metadata": {},
   "source": [
    "# Intro to Bayesian Statistics Lab\n",
    "\n",
    "Complete the following set of exercises to solidify your knowledge of Bayesian statistics and Bayesian data analysis."
   ]
  },
  {
   "cell_type": "code",
   "execution_count": 26,
   "metadata": {},
   "outputs": [],
   "source": [
    "import pandas as pd\n",
    "import numpy as np\n",
    "import matplotlib.pyplot as plt\n",
    "import seaborn as sns"
   ]
  },
  {
   "cell_type": "markdown",
   "metadata": {},
   "source": [
    "## 1. Cookie Problem\n",
    "\n",
    "Suppose we have two bowls of cookies. Bowl 1 contains 30 vanilla cookies and 10 chocolate cookies. Bowl 2 contains 20 of each. You randomly pick one cookie out of one of the bowls, and it is vanilla. Use Bayes Theorem to calculate the probability that the vanilla cookie you picked came from Bowl 1?"
   ]
  },
  {
   "cell_type": "code",
   "execution_count": 9,
   "metadata": {},
   "outputs": [
    {
     "name": "stdout",
     "output_type": "stream",
     "text": [
      "La probabilidad de que la galleta de vainilla provenga del bowl 1 es de 0.6\n"
     ]
    }
   ],
   "source": [
    "def bayes (p_A,p_B,p_AB):\n",
    "    return (p_AB*p_A)/p_B\n",
    "#La probabilidad de tomar una galleta del bowl 1 es de 1/2\n",
    "#La probabilidad de tomar una galleta de vainilla dado que escogemos del bowl 1 es de 3/4\n",
    "#La probabilidad de tomar una galleta de vainilla de cualquier bowl es de 5/8\n",
    "print(\"La probabilidad de que la galleta de vainilla provenga del bowl 1 es de %s\"%(bayes(1/2,5/8,3/4)))"
   ]
  },
  {
   "cell_type": "markdown",
   "metadata": {},
   "source": [
    "What is the probability that it came from Bowl 2?"
   ]
  },
  {
   "cell_type": "code",
   "execution_count": 11,
   "metadata": {},
   "outputs": [
    {
     "name": "stdout",
     "output_type": "stream",
     "text": [
      "La probabilidad de que la galleta de vainilla provenga del bowl 2 es de 0.4\n"
     ]
    }
   ],
   "source": [
    "#La probabilidad de tomar una galleta del bowl 2 es de 1/2\n",
    "#La probabilidad de tomar una galleta de vainilla dado que escogemos del bowl 2 es de 1/2\n",
    "#La probabilidad de tomar una galleta de vainilla de cualquier bowl es de 5/8\n",
    "print(\"La probabilidad de que la galleta de vainilla provenga del bowl 2 es de %s\"%(bayes(1/2,5/8,1/2)))"
   ]
  },
  {
   "cell_type": "markdown",
   "metadata": {},
   "source": [
    "What if the cookie you had picked was chocolate? What are the probabilities that the chocolate cookie came from Bowl 1 and Bowl 2 respectively?"
   ]
  },
  {
   "cell_type": "code",
   "execution_count": 13,
   "metadata": {},
   "outputs": [
    {
     "name": "stdout",
     "output_type": "stream",
     "text": [
      "La probabilidad de que la galleta de chocolate provenga del bowl 1 es de 0.3333333333333333\n",
      "La probabilidad de que la galleta de chocolate provenga del bowl 2 es de 0.6666666666666666\n"
     ]
    }
   ],
   "source": [
    "#La probabilidad de tomar una galleta del bowl 1 es de 1/2 P(A)\n",
    "#La probabilidad de tomar una galleta de chocolate dado que escogemos del bowl 1 es de 1/4 P(B|A)\n",
    "#La probabilidad de tomar una galleta de chocolate de cualquier bowl es de 3/8 P(B)\n",
    "\n",
    "print(\"La probabilidad de que la galleta de chocolate provenga del bowl 1 es de %s\"%(bayes(1/2,3/8,1/4)))\n",
    "\n",
    "#La probabilidad de tomar una galleta del bowl 2 es de 1/2 P(A)\n",
    "#La probabilidad de tomar una galleta de chocolate dado que escogemos del bowl 2 es de 1/2 P(B|A)\n",
    "#La probabilidad de tomar una galleta de chocolate de cualquier bowl es de 3/8 P(B)\n",
    "\n",
    "print(\"La probabilidad de que la galleta de chocolate provenga del bowl 2 es de %s\"%(bayes(1/2,3/8,1/2)))"
   ]
  },
  {
   "cell_type": "markdown",
   "metadata": {},
   "source": [
    "## 2. Candy Problem\n",
    "\n",
    "Suppose you have two bags of candies:\n",
    "\n",
    "- In Bag 1, the mix of colors is:\n",
    "    - Brown - 30%\n",
    "    - Yellow - 20%\n",
    "    - Red - 20%\n",
    "    - Green - 10%\n",
    "    - Orange - 10%\n",
    "    - Tan - 10%\n",
    "    \n",
    "- In Bag 2, the mix of colors is:\n",
    "    - Blue - 24%\n",
    "    - Green - 20%\n",
    "    - Orange - 16%\n",
    "    - Yellow - 14%\n",
    "    - Red - 13%\n",
    "    - Brown - 13%\n",
    "    \n",
    "Not knowing which bag is which, you randomly draw one candy from each bag. One is yellow and one is green. What is the probability that the yellow one came from the Bag 1?\n",
    "\n",
    "*Hint: For the likelihoods, you will need to multiply the probabilities of drawing yellow from one bag and green from the other bag and vice versa.*"
   ]
  },
  {
   "cell_type": "code",
   "execution_count": 23,
   "metadata": {},
   "outputs": [
    {
     "name": "stdout",
     "output_type": "stream",
     "text": [
      "Entonces, la probabilidad de que el caramelo amarillo provenga de la bolsa 1 es de 0.7407407407407407\n"
     ]
    }
   ],
   "source": [
    "#La probabilidad de escoger un caramelo amarillo de la bolsa 1 es 0.2\n",
    "p_ama_b1 = 20\n",
    "p_ama_b2 = 14\n",
    "#La probabilidad de escoger un caramelo de la bolsa 1 es de 0.5\n",
    "p_b1=1/2\n",
    "#La probabilidad de escoger un caramelo verde de la bolsa 2 es 0.2\n",
    "p_ver_b2 = 20\n",
    "p_ver_b1 = 10\n",
    "#La probabilidad de escoger un caramelo amarillo de la bolsa 1 o de la bolsa 2 es \n",
    "p_amar = p_ama_b1*p_ver_b2*p_b1 + p_ama_b2 * p_ver_b1*p_b1\n",
    "\n",
    "print(\"Entonces, la probabilidad de que el caramelo amarillo provenga de la bolsa 1 es de %s\"%((p_ama_b1*p_ver_b2*p_b1)/p_amar))"
   ]
  },
  {
   "cell_type": "markdown",
   "metadata": {},
   "source": [
    "What is the probability that the yellow candy came from Bag 2?"
   ]
  },
  {
   "cell_type": "code",
   "execution_count": 24,
   "metadata": {},
   "outputs": [
    {
     "name": "stdout",
     "output_type": "stream",
     "text": [
      "La probabilidad de que el caramelo amarillo provenga de la bolsa 2 es de 0.25925925925925924\n"
     ]
    }
   ],
   "source": [
    "print(\"La probabilidad de que el caramelo amarillo provenga de la bolsa 2 es de %s\"%((p_ama_b2*p_ver_b1*p_b1)/p_amar))"
   ]
  },
  {
   "cell_type": "markdown",
   "metadata": {},
   "source": [
    "What are the probabilities that the green one came from Bag 1 and Bag 2 respectively?"
   ]
  },
  {
   "cell_type": "code",
   "execution_count": 25,
   "metadata": {},
   "outputs": [
    {
     "name": "stdout",
     "output_type": "stream",
     "text": [
      "La probabilidad de que el caramelo verde provenga de la bolsa 1 es de 0.25925925925925924\n",
      "La probabilidad de que el caramelo verde provenga de la bolsa 2 es de 0.7407407407407407\n"
     ]
    }
   ],
   "source": [
    "print(\"La probabilidad de que el caramelo verde provenga de la bolsa 1 es de %s\"%((p_ama_b2*p_ver_b1*p_b1)/p_amar))\n",
    "print(\"La probabilidad de que el caramelo verde provenga de la bolsa 2 es de %s\"%((p_ama_b1*p_ver_b2*p_b1)/p_amar))"
   ]
  },
  {
   "cell_type": "markdown",
   "metadata": {},
   "source": [
    "## 3. Monty Hall Problem\n",
    "\n",
    "Suppose you are a contestant on the popular game show *Let's Make a Deal*. The host of the show (Monty Hall) presents you with three doors - Door A, Door B, and Door C. He tells you that there is a sports car behind one of them and if you choose the correct one, you win the car!\n",
    "\n",
    "You select Door A, but then Monty makes things a little more interesting. He opens Door B to reveal that there is no sports car behind it and asks you if you would like to stick with your choice of Door A or switch your choice to Door C. Given this new information, what are the probabilities of you winning the car if you stick with Door A versus if you switch to Door C?"
   ]
  },
  {
   "cell_type": "code",
   "execution_count": null,
   "metadata": {},
   "outputs": [],
   "source": [
    "#la probabilidad de que las puertas A,B o C contengan el coche es la misma: 1/3\n",
    "#Cuando Monty abre una puerta en la que no está el auto la probabilidad de tener la puerta ganadora es \n",
    "\n",
    "#P(ganar el auto|puerta B no tiene el auto) = 1/3\n",
    "#P(ganar el auto cambiando puerta | puerta b no tiene el auto) = 1 - P(ganar el auto|puerta B no tiene el auto) = 2/3"
   ]
  },
  {
   "cell_type": "markdown",
   "metadata": {},
   "source": [
    "## 4. Bayesian Analysis \n",
    "\n",
    "Suppose you work for a landscaping company, and they want to advertise their service online. They create an ad and sit back waiting for the money to roll in. On the first day, the ad sends 100 visitors to the site and 14 of them sign up for landscaping services. Create a generative model to come up with the posterior distribution and produce a visualization of what the posterior distribution would look like given the observed data."
   ]
  },
  {
   "cell_type": "code",
   "execution_count": 27,
   "metadata": {},
   "outputs": [
    {
     "data": {
      "text/plain": [
       "0.009809"
      ]
     },
     "execution_count": 27,
     "metadata": {},
     "output_type": "execute_result"
    }
   ],
   "source": [
    "prior = pd.Series(np.random.uniform(0,1,size=1000000))\n",
    "simulated = [np.random.binomial(100,i) for i in prior]\n",
    "posterior = prior[[i == 14 for i in simulated]]\n",
    "\n",
    "len(posterior)/len(prior)"
   ]
  },
  {
   "cell_type": "markdown",
   "metadata": {},
   "source": [
    "Produce a set of descriptive statistics for the posterior distribution."
   ]
  },
  {
   "cell_type": "code",
   "execution_count": 28,
   "metadata": {},
   "outputs": [
    {
     "data": {
      "text/plain": [
       "<matplotlib.axes._subplots.AxesSubplot at 0x25849391908>"
      ]
     },
     "execution_count": 28,
     "metadata": {},
     "output_type": "execute_result"
    },
    {
     "data": {
      "image/png": "[encoded data removed]",
      "text/plain": [
       "<Figure size 432x288 with 1 Axes>"
      ]
     },
     "metadata": {
      "needs_background": "light"
     },
     "output_type": "display_data"
    }
   ],
   "source": [
    "sns.distplot(posterior)"
   ]
  },
  {
   "cell_type": "markdown",
   "metadata": {},
   "source": [
    "What is the 90% credible interval range?"
   ]
  },
  {
   "cell_type": "code",
   "execution_count": null,
   "metadata": {},
   "outputs": [],
   "source": []
  },
  {
   "cell_type": "markdown",
   "metadata": {},
   "source": [
    "What is the Maximum Likelihood Estimate?"
   ]
  },
  {
   "cell_type": "code",
   "execution_count": null,
   "metadata": {},
   "outputs": [],
   "source": []
  }
 ],
 "metadata": {
  "kernelspec": {
   "display_name": "Python 3",
   "language": "python",
   "name": "python3"
  },
  "language_info": {
   "codemirror_mode": {
    "name": "ipython",
    "version": 3
   },
   "file_extension": ".py",
   "mimetype": "text/x-python",
   "name": "python",
   "nbconvert_exporter": "python",
   "pygments_lexer": "ipython3",
   "version": "3.7.0"
  }
 },
 "nbformat": 4,
 "nbformat_minor": 2
}
