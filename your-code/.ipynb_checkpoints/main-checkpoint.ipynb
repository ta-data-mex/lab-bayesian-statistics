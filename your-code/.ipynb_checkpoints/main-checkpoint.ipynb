{
 "cells": [
  {
   "cell_type": "markdown",
   "metadata": {},
   "source": [
    "# Intro to Bayesian Statistics Lab\n",
    "\n",
    "Complete the following set of exercises to solidify your knowledge of Bayesian statistics and Bayesian data analysis."
   ]
  },
  {
   "cell_type": "code",
   "execution_count": 3,
   "metadata": {},
   "outputs": [],
   "source": [
    "import pandas as pd\n",
    "import numpy as np\n",
    "import matplotlib.pyplot as plt"
   ]
  },
  {
   "cell_type": "markdown",
   "metadata": {},
   "source": [
    "## 1. Cookie Problem\n",
    "\n",
    "Suppose we have two bowls of cookies. Bowl 1 contains 30 vanilla cookies and 10 chocolate cookies. Bowl 2 contains 20 of each. You randomly pick one cookie out of one of the bowls, and it is vanilla. Use Bayes Theorem to calculate the probability that the vanilla cookie you picked came from Bowl 1?"
   ]
  },
  {
   "cell_type": "code",
   "execution_count": null,
   "metadata": {},
   "outputs": [],
   "source": [
    "def bayes(priori, verosimilitud): \n",
    "    marginal=sum(np.multiply(priori, verosimilitud))\n",
    "    posteriori=np.divide(np.multiply(priori, verosimilitud), marginal)\n",
    "    return posteriori\n"
   ]
  },
  {
   "cell_type": "code",
   "execution_count": null,
   "metadata": {},
   "outputs": [],
   "source": [
    "#p(tazon1/vainilla)=[p(vainilla/tazon1)*p(tazon1)]/p(vainilla)#\n",
    "#p(vainilla/tazon1)= 30/40#\n",
    "#p(tazon1)=1/2#\n",
    "#p(tazon1)=1/2#\n",
    "#p(vainilla)=1/2 *30/40+1/2*20/40\n"
   ]
  },
  {
   "cell_type": "code",
   "execution_count": 4,
   "metadata": {},
   "outputs": [
    {
     "data": {
      "text/plain": [
       "0.6"
      ]
     },
     "execution_count": 4,
     "metadata": {},
     "output_type": "execute_result"
    }
   ],
   "source": [
    "pv1=30/40\n",
    "p1=1/2\n",
    "pv=1/2*30/40+1/2*20/40\n",
    "\n",
    "p_v_1=(pv1*p1)/pv\n",
    "p_v_1"
   ]
  },
  {
   "cell_type": "markdown",
   "metadata": {},
   "source": [
    "What is the probability that it came from Bowl 2?"
   ]
  },
  {
   "cell_type": "code",
   "execution_count": 5,
   "metadata": {},
   "outputs": [
    {
     "data": {
      "text/plain": [
       "0.4"
      ]
     },
     "execution_count": 5,
     "metadata": {},
     "output_type": "execute_result"
    }
   ],
   "source": [
    "#p(tazon1/vainilla)=[p(vainilla/tazon2)*p(tazon2)]/p(vainilla)#\n",
    "#p(vainilla/tazon1)= 30/40#\n",
    "#p(tazon1)=1/2#\n",
    "#p(tazon1)=1/2#\n",
    "#p(vainilla)=1/2 *30/40+1/2*20/40\n",
    "\n",
    "pv2=20/40\n",
    "p2=1/2\n",
    "pv=1/2*30/40+1/2*20/40\n",
    "\n",
    "p_v_2=(pv2*p2)/pv\n",
    "p_v_2"
   ]
  },
  {
   "cell_type": "markdown",
   "metadata": {},
   "source": [
    "What if the cookie you had picked was chocolate? What are the probabilities that the chocolate cookie came from Bowl 1 and Bowl 2 respectively?"
   ]
  },
  {
   "cell_type": "code",
   "execution_count": 6,
   "metadata": {},
   "outputs": [
    {
     "data": {
      "text/plain": [
       "0.3333333333333333"
      ]
     },
     "execution_count": 6,
     "metadata": {},
     "output_type": "execute_result"
    }
   ],
   "source": [
    "#p(tazon1/chocolaate)=[p(chocolate/tazon1)*p(tazon1)]/p(chocolate)#\n",
    "#p(chocolate/tazon1)= 30/40#\n",
    "#p(tazon1)=1/2#\n",
    "#p(tazon1)=1/2#\n",
    "#p(chocolate)=1/2 *30/40+1/2*20/40\n",
    "\n",
    "pv1=10/40\n",
    "p1=1/2\n",
    "pv=1/2*10/40+1/2*20/40\n",
    "\n",
    "p_c_1=(pv1*p1)/pv\n",
    "p_c_1"
   ]
  },
  {
   "cell_type": "code",
   "execution_count": 7,
   "metadata": {},
   "outputs": [
    {
     "data": {
      "text/plain": [
       "0.6666666666666666"
      ]
     },
     "execution_count": 7,
     "metadata": {},
     "output_type": "execute_result"
    }
   ],
   "source": [
    "#p(tazon1/chocolate)=[p(chocolate/tazon2)*p(tazon2)]/p(chocolate)#\n",
    "#p(chocolate/tazon1)= 30/40#\n",
    "#p(tazon1)=1/2#\n",
    "#p(tazon1)=1/2#\n",
    "#p(chocolate)=1/2 *30/40+1/2*20/40\n",
    "\n",
    "pv2=20/40\n",
    "p2=1/2\n",
    "pv=1/2*10/40+1/2*20/40\n",
    "\n",
    "p_c_2=(pv2*p2)/pv\n",
    "p_c_2"
   ]
  },
  {
   "cell_type": "markdown",
   "metadata": {},
   "source": [
    "## 2. Candy Problem\n",
    "\n",
    "Suppose you have two bags of candies:\n",
    "\n",
    "- In Bag 1, the mix of colors is:\n",
    "    - Brown - 30%\n",
    "    - Yellow - 20%\n",
    "    - Red - 20%\n",
    "    - Green - 10%\n",
    "    - Orange - 10%\n",
    "    - Tan - 10%\n",
    "    \n",
    "- In Bag 2, the mix of colors is:\n",
    "    - Blue - 24%\n",
    "    - Green - 20%\n",
    "    - Orange - 16%\n",
    "    - Yellow - 14%\n",
    "    - Red - 13%\n",
    "    - Brown - 13%\n",
    "    \n",
    "Not knowing which bag is which, you randomly draw one candy from each bag. One is yellow and one is green. What is the probability that the yellow one came from the Bag 1?\n",
    "\n",
    "*Hint: For the likelihoods, you will need to multiply the probabilities of drawing yellow from one bag and green from the other bag and vice versa.*"
   ]
  },
  {
   "cell_type": "code",
   "execution_count": 14,
   "metadata": {},
   "outputs": [
    {
     "data": {
      "text/plain": [
       "0.5882352941176471"
      ]
     },
     "execution_count": 14,
     "metadata": {},
     "output_type": "execute_result"
    }
   ],
   "source": [
    "#p(bolsa1/amarillo)=[p(amarillo/bolsa1)*p(bolsa1)]/p(amarillo)#\n",
    "#p(amarillo/bolsa1)= 0,2#\n",
    "#p(bolsa1)=1/2#\n",
    "#p(amarillo)=1/2 *0,2+1/2*0,14\n",
    "\n",
    "py1=2/10\n",
    "p1=1/2\n",
    "py=(1/2*2/10)+(1/2*14/100)\n",
    "\n",
    "p_y_1=(py1*p1)/py\n",
    "p_y_1"
   ]
  },
  {
   "cell_type": "markdown",
   "metadata": {},
   "source": [
    "What is the probability that the yellow candy came from Bag 2?"
   ]
  },
  {
   "cell_type": "code",
   "execution_count": 15,
   "metadata": {},
   "outputs": [
    {
     "data": {
      "text/plain": [
       "0.411764705882353"
      ]
     },
     "execution_count": 15,
     "metadata": {},
     "output_type": "execute_result"
    }
   ],
   "source": [
    "#p(bolsa2/amarillo)=[p(amarillo/bolsa2)*p(bolsa2)]/p(amarillo)#\n",
    "#p(amarillo/bolsa2)= 0,2#\n",
    "#p(bolsa2)=1/2#\n",
    "#p(amarillo)=1/2 *0,2+1/2*0,14\n",
    "\n",
    "py2=14/100\n",
    "p2=1/2\n",
    "py=(1/2*2/10)+(1/2*14/100)\n",
    "\n",
    "p_y_2=(py2*p2)/py\n",
    "p_y_2"
   ]
  },
  {
   "cell_type": "markdown",
   "metadata": {},
   "source": [
    "What are the probabilities that the green one came from Bag 1 and Bag 2 respectively?"
   ]
  },
  {
   "cell_type": "code",
   "execution_count": 16,
   "metadata": {},
   "outputs": [
    {
     "data": {
      "text/plain": [
       "0.3333333333333333"
      ]
     },
     "execution_count": 16,
     "metadata": {},
     "output_type": "execute_result"
    }
   ],
   "source": [
    "#p(bolsa1/verde)=[p(verde/bolsa1)*p(bolsa1)]/p(verde)#\n",
    "#p(verde/bolsa1)= 0,1#\n",
    "#p(bolsa1)=1/2#\n",
    "#p(verde)=(1/2*1/10)+(1/2*2/10)#\n",
    "\n",
    "pg1=1/10\n",
    "p1=1/2\n",
    "pg=(1/2*1/10)+(1/2*2/10)\n",
    "\n",
    "p_g_1=(pg1*p1)/pg\n",
    "p_g_1"
   ]
  },
  {
   "cell_type": "code",
   "execution_count": 17,
   "metadata": {},
   "outputs": [
    {
     "data": {
      "text/plain": [
       "0.6666666666666666"
      ]
     },
     "execution_count": 17,
     "metadata": {},
     "output_type": "execute_result"
    }
   ],
   "source": [
    "#p(bolsa1/verde)=[p(verde/bolsa1)*p(bolsa1)]/p(verde)#\n",
    "#p(verde/bolsa1)= 0,2#\n",
    "#p(bolsa1)=1/2#\n",
    "#p(verde)=(1/2*1/10)+(1/2*2/10)#\n",
    "\n",
    "pg2=2/10\n",
    "p2=1/2\n",
    "pg=(1/2*1/10)+(1/2*2/10)\n",
    "\n",
    "p_g_2=(pg2*p2)/pg\n",
    "p_g_2"
   ]
  },
  {
   "cell_type": "markdown",
   "metadata": {},
   "source": [
    "## 3. Monty Hall Problem\n",
    "\n",
    "Suppose you are a contestant on the popular game show *Let's Make a Deal*. The host of the show (Monty Hall) presents you with three doors - Door A, Door B, and Door C. He tells you that there is a sports car behind one of them and if you choose the correct one, you win the car!\n",
    "\n",
    "You select Door A, but then Monty makes things a little more interesting. He opens Door B to reveal that there is no sports car behind it and asks you if you would like to stick with your choice of Door A or switch your choice to Door C. Given this new information, what are the probabilities of you winning the car if you stick with Door A versus if you switch to Door C?"
   ]
  },
  {
   "cell_type": "code",
   "execution_count": 19,
   "metadata": {},
   "outputs": [
    {
     "data": {
      "text/plain": [
       "0.3333333333333333"
      ]
     },
     "execution_count": 19,
     "metadata": {},
     "output_type": "execute_result"
    }
   ],
   "source": [
    "#p(/puerta B)=[p(verde/bolsa1)*p(bolsa1)]/p(verde)#\n",
    "#p(verde/bolsa1)= 1/2#\n",
    "#p(bolsa1)=1/3#\n",
    "#p(verde)=(1/3*1/2)+(1/3*0)+(1/3*1)\n",
    "\n",
    "pg2=1/2\n",
    "p2=1/3\n",
    "pg=(1/3*1/2)+(1/3*0)+(1/3*1)\n",
    "\n",
    "p_g_2=(pg2*p2)/pg\n",
    "p_g_2"
   ]
  },
  {
   "cell_type": "markdown",
   "metadata": {},
   "source": [
    "## 4. Bayesian Analysis \n",
    "\n",
    "Suppose you work for a landscaping company, and they want to advertise their service online. They create an ad and sit back waiting for the money to roll in. On the first day, the ad sends 100 visitors to the site and 14 of them sign up for landscaping services. Create a generative model to come up with the posterior distribution and produce a visualization of what the posterior distribution would look like given the observed data."
   ]
  },
  {
   "cell_type": "code",
   "execution_count": 6,
   "metadata": {},
   "outputs": [
    {
     "data": {
      "text/plain": [
       "<AxesSubplot:>"
      ]
     },
     "execution_count": 6,
     "metadata": {},
     "output_type": "execute_result"
    },
    {
     "data": {
      "image/png": "[encoded data removed]",
      "text/plain": [
       "<Figure size 432x288 with 1 Axes>"
      ]
     },
     "metadata": {
      "needs_background": "light"
     },
     "output_type": "display_data"
    }
   ],
   "source": [
    "n=100\n",
    "p=14/50\n",
    "\n",
    "n_draws = 100_000\n",
    "prior = pd.Series(np.random.uniform(0,1,size=n_draws))\n",
    "\n",
    "def generative_model(proba_visita):\n",
    "    visita = np.random.binomial(100, proba_visita)\n",
    "    return visita\n",
    "\n",
    "visita = list()\n",
    "for j in prior:\n",
    "    visita.append(generative_model(j))\n",
    "    \n",
    "\n",
    "posteriori = prior[list(map(lambda x:x ==14, visita))]\n",
    "posteriori.hist()"
   ]
  },
  {
   "cell_type": "markdown",
   "metadata": {},
   "source": [
    "Produce a set of descriptive statistics for the posterior distribution."
   ]
  },
  {
   "cell_type": "code",
   "execution_count": 23,
   "metadata": {},
   "outputs": [
    {
     "data": {
      "text/plain": [
       "count    1051.000000\n",
       "mean        0.146001\n",
       "std         0.035728\n",
       "min         0.058347\n",
       "25%         0.120488\n",
       "50%         0.144002\n",
       "75%         0.168244\n",
       "max         0.287743\n",
       "dtype: float64"
      ]
     },
     "execution_count": 23,
     "metadata": {},
     "output_type": "execute_result"
    }
   ],
   "source": [
    "posteriori.describe()"
   ]
  },
  {
   "cell_type": "markdown",
   "metadata": {},
   "source": [
    "What is the 90% credible interval range?"
   ]
  },
  {
   "cell_type": "code",
   "execution_count": 24,
   "metadata": {},
   "outputs": [
    {
     "name": "stdout",
     "output_type": "stream",
     "text": [
      "(0.091468053063467,0.20978487978338178)\n"
     ]
    }
   ],
   "source": [
    "print(f'({posteriori.quantile(0.05)},{posteriori.quantile(0.95)})')"
   ]
  },
  {
   "cell_type": "markdown",
   "metadata": {},
   "source": [
    "What is the Maximum Likelihood Estimate?"
   ]
  },
  {
   "cell_type": "code",
   "execution_count": 7,
   "metadata": {},
   "outputs": [
    {
     "data": {
      "text/plain": [
       "0.14801458502913187"
      ]
     },
     "execution_count": 7,
     "metadata": {},
     "output_type": "execute_result"
    }
   ],
   "source": [
    "posteriori.mean()"
   ]
  },
  {
   "cell_type": "code",
   "execution_count": null,
   "metadata": {},
   "outputs": [],
   "source": []
  }
 ],
 "metadata": {
  "kernelspec": {
   "display_name": "Python 3 (ipykernel)",
   "language": "python",
   "name": "python3"
  },
  "language_info": {
   "codemirror_mode": {
    "name": "ipython",
    "version": 3
   },
   "file_extension": ".py",
   "mimetype": "text/x-python",
   "name": "python",
   "nbconvert_exporter": "python",
   "pygments_lexer": "ipython3",
   "version": "3.9.6"
  }
 },
 "nbformat": 4,
 "nbformat_minor": 2
}
