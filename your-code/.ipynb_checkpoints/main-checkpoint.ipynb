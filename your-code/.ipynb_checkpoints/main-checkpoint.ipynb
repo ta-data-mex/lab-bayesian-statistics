{
 "cells": [
  {
   "cell_type": "markdown",
   "metadata": {},
   "source": [
    "# Intro to Bayesian Statistics Lab\n",
    "\n",
    "Complete the following set of exercises to solidify your knowledge of Bayesian statistics and Bayesian data analysis."
   ]
  },
  {
   "cell_type": "code",
   "execution_count": 38,
   "metadata": {},
   "outputs": [],
   "source": [
    "import pandas as pd\n",
    "import numpy as np\n",
    "import matplotlib.pyplot as plt\n",
    "import seaborn as sns"
   ]
  },
  {
   "cell_type": "markdown",
   "metadata": {},
   "source": [
    "## 1. Cookie Problem\n",
    "\n",
    "Suppose we have two bowls of cookies. Bowl 1 contains 30 vanilla cookies and 10 chocolate cookies. Bowl 2 contains 20 of each. You randomly pick one cookie out of one of the bowls, and it is vanilla. Use Bayes Theorem to calculate the probability that the vanilla cookie you picked came from Bowl 1?"
   ]
  },
  {
   "cell_type": "code",
   "execution_count": 2,
   "metadata": {},
   "outputs": [
    {
     "name": "stdout",
     "output_type": "stream",
     "text": [
      "0.6\n"
     ]
    }
   ],
   "source": [
    "# Probabilidad de que la galleta de vainilla obtenida provenga del Bowl 1.\n",
    "\n",
    "# P(A|B) = P(B|A)P(A)/P(B)\n",
    "\n",
    "prob = (3/4)*(1/2)/(((3/4)*(1/2)) + ((1/2)*(1/2)))\n",
    "print(prob)"
   ]
  },
  {
   "cell_type": "markdown",
   "metadata": {},
   "source": [
    "What is the probability that it came from Bowl 2?"
   ]
  },
  {
   "cell_type": "code",
   "execution_count": 3,
   "metadata": {},
   "outputs": [
    {
     "name": "stdout",
     "output_type": "stream",
     "text": [
      "0.4\n"
     ]
    }
   ],
   "source": [
    "prob = (1/2)*(1/2)/(((3/4)*(1/2)) + ((1/2)*(1/2)))\n",
    "print(prob)"
   ]
  },
  {
   "cell_type": "markdown",
   "metadata": {},
   "source": [
    "What if the cookie you had picked was chocolate? What are the probabilities that the chocolate cookie came from Bowl 1 and Bowl 2 respectively?"
   ]
  },
  {
   "cell_type": "code",
   "execution_count": 4,
   "metadata": {},
   "outputs": [
    {
     "name": "stdout",
     "output_type": "stream",
     "text": [
      "0.3333333333333333\n"
     ]
    }
   ],
   "source": [
    "# Bowl 1\n",
    "\n",
    "prob = (1/4)*(1/2)/(((1/4)*(1/2)) + ((1/2)*(1/2)))\n",
    "print(prob)"
   ]
  },
  {
   "cell_type": "code",
   "execution_count": 5,
   "metadata": {},
   "outputs": [
    {
     "name": "stdout",
     "output_type": "stream",
     "text": [
      "0.6666666666666666\n"
     ]
    }
   ],
   "source": [
    "# Bowl 2\n",
    "\n",
    "prob = (1/2)*(1/2)/(((1/4)*(1/2)) + ((1/2)*(1/2)))\n",
    "print(prob)"
   ]
  },
  {
   "cell_type": "markdown",
   "metadata": {},
   "source": [
    "## 2. Candy Problem\n",
    "\n",
    "Suppose you have two bags of candies:\n",
    "\n",
    "- In Bag 1, the mix of colors is:\n",
    "    - Brown - 30%\n",
    "    - Yellow - 20%\n",
    "    - Red - 20%\n",
    "    - Green - 10%\n",
    "    - Orange - 10%\n",
    "    - Tan - 10%\n",
    "    \n",
    "- In Bag 2, the mix of colors is:\n",
    "    - Blue - 24%\n",
    "    - Green - 20%\n",
    "    - Orange - 16%\n",
    "    - Yellow - 14%\n",
    "    - Red - 13%\n",
    "    - Brown - 13%\n",
    "    \n",
    "Not knowing which bag is which, you randomly draw one candy from each bag. One is yellow and one is green. What is the probability that the yellow one came from the Bag 1?\n",
    "\n",
    "*Hint: For the likelihoods, you will need to multiply the probabilities of drawing yellow from one bag and green from the other bag and vice versa.*"
   ]
  },
  {
   "cell_type": "code",
   "execution_count": 9,
   "metadata": {},
   "outputs": [
    {
     "data": {
      "text/plain": [
       "0.7407407407407408"
      ]
     },
     "execution_count": 9,
     "metadata": {},
     "output_type": "execute_result"
    }
   ],
   "source": [
    "# A = El amarillo es del saco 1\n",
    "# B = Se sacaron dos caramelos. Uno amarilla y otro verde\n",
    "\n",
    "#                                ----- P(A|B) = P(B|A)*P(A)/P(B) ----- \n",
    "\n",
    "# P(B|A) = Probabilidad de sacar un caramelo amarillo y otro verde dado que el amarillo vino del saco 1\n",
    "# P(A) = Probabilidad de que el amarillo es del saco 1\n",
    "# P(B) = Probabilidad de sacar un caramelo verde y otro amarillo\n",
    "\n",
    "# P(A) tenemos que tomar en cuenta de que para que el caramelo amarillo sea del saco 1, tenemos que tomar primero la\n",
    "# probabilidad de escoger ese saco y luego de sacar el caramelo\n",
    "\n",
    "prob = (0.2 * (1/2)*(0.2)) / ((1/2)*0.2*0.2 + (1/2)*0.1*0.14)\n",
    "prob"
   ]
  },
  {
   "cell_type": "markdown",
   "metadata": {},
   "source": [
    "What is the probability that the yellow candy came from Bag 2?"
   ]
  },
  {
   "cell_type": "code",
   "execution_count": 10,
   "metadata": {},
   "outputs": [
    {
     "data": {
      "text/plain": [
       "0.25925925925925924"
      ]
     },
     "execution_count": 10,
     "metadata": {},
     "output_type": "execute_result"
    }
   ],
   "source": [
    "# A = El amarillo es del saco 2\n",
    "# B = Se sacaron dos caramelos. Uno amarilla y otro verde\n",
    "\n",
    "#                                ----- P(A|B) = P(B|A)*P(A)/P(B) ----- \n",
    "\n",
    "# P(B|A) = Probabilidad de sacar un caramelo amarillo y otro verde dado que el amarillo vino del saco 2\n",
    "# P(A) = Probabilidad de que el amarillo es del saco 2\n",
    "# P(B) = Probabilidad de sacar un caramelo verde y otro amarillo\n",
    "\n",
    "prob = ((0.1) * (1/2)*(0.14))/((1/2)*0.2*0.2 + (1/2)*0.1*0.14)\n",
    "prob"
   ]
  },
  {
   "cell_type": "markdown",
   "metadata": {},
   "source": [
    "What are the probabilities that the green one came from Bag 1 and Bag 2 respectively?"
   ]
  },
  {
   "cell_type": "code",
   "execution_count": 11,
   "metadata": {},
   "outputs": [
    {
     "data": {
      "text/plain": [
       "0.25925925925925924"
      ]
     },
     "execution_count": 11,
     "metadata": {},
     "output_type": "execute_result"
    }
   ],
   "source": [
    "# A = El verde es del saco 1\n",
    "# B = Se sacaron dos caramelos. Uno amarilla y otro verde\n",
    "\n",
    "#                                ----- P(A|B) = P(B|A)*P(A)/P(B) ----- \n",
    "\n",
    "# P(B|A) = Probabilidad de sacar un caramelo amarillo y otro verde dado que el verde vino del saco 1\n",
    "# P(A) = Probabilidad de que el verde es del saco 1\n",
    "# P(B) = Probabilidad de sacar un caramelo verde y otro amarillo\n",
    "\n",
    "# Bag1\n",
    "\n",
    "prob = ((0.14) * (1/2)*(0.1))/((1/2)*0.2*0.2 + (1/2)*0.1*0.14)\n",
    "prob"
   ]
  },
  {
   "cell_type": "code",
   "execution_count": 12,
   "metadata": {},
   "outputs": [
    {
     "data": {
      "text/plain": [
       "0.7407407407407408"
      ]
     },
     "execution_count": 12,
     "metadata": {},
     "output_type": "execute_result"
    }
   ],
   "source": [
    "# Se procede con la misma logica ya explicada anteriormente.\n",
    "\n",
    "# Bag2\n",
    "\n",
    "prob = ((0.2) * (1/2)*(0.2))/((1/2)*0.2*0.2 + (1/2)*0.1*0.14)\n",
    "prob"
   ]
  },
  {
   "cell_type": "markdown",
   "metadata": {},
   "source": [
    "## 3. Monty Hall Problem\n",
    "\n",
    "Suppose you are a contestant on the popular game show *Let's Make a Deal*. The host of the show (Monty Hall) presents you with three doors - Door A, Door B, and Door C. He tells you that there is a sports car behind one of them and if you choose the correct one, you win the car!\n",
    "\n",
    "You select Door A, but then Monty makes things a little more interesting. He opens Door B to reveal that there is no sports car behind it and asks you if you would like to stick with your choice of Door A or switch your choice to Door C. Given this new information, what are the probabilities of you winning the car if you stick with Door A versus if you switch to Door C?"
   ]
  },
  {
   "cell_type": "code",
   "execution_count": 37,
   "metadata": {},
   "outputs": [
    {
     "name": "stdout",
     "output_type": "stream",
     "text": [
      "La probabilidad de que este detras de la puerta A es 0.3333333333333333\n",
      "La probabilidad de que este detras de la puerta C es 0.6666666666666666\n"
     ]
    }
   ],
   "source": [
    "# La probabilidad de obtener un carro antes de que la puerta B se abre es de 1/3\n",
    "\n",
    "# A = El carro esta en la puerta A\n",
    "# B = Monty abre la puerta B\n",
    "# P(A|B) = Probabilidad de ganar el carro con la puerta A dado que Monty abre la puerta B\n",
    "\n",
    "# P(B|A) = Probabilidad de que Monty abra la puerta B dado que el carro esta en la puerta A\n",
    "# P(A) = Probabilidad de que el carro este en la puerta A\n",
    "# P(B) = Probabilidad de que Monty abra la puerta B. \n",
    "\n",
    "# Esto es dificil de entender ya que se tienen que considerar varias cosas:\n",
    "# .- Suponiendo que el carro esta en la puerta A. Si es cogemos A monty puede escoger B o C para abrir\n",
    "# .- Pero si escogemos la puerta C monty solo puede escoger la puerta B ya que no puede abrir la puerta A ya que ahi se\n",
    "# encuentra el carro.\n",
    "\n",
    "prob_a = (1/2) * (1/3) / ((1/3)*(1/2) + (1/3)*(1))\n",
    "\n",
    "# Para el caso C solo cambia que evento A = El carro NO esta detras de la puerta A\n",
    "prob_c = (1/2) * (2/3) / ((1/3)*(1/2) + (1/3)*(1))\n",
    "\n",
    "print(f'La probabilidad de que este detras de la puerta A es {prob_a}')\n",
    "print(f'La probabilidad de que este detras de la puerta C es {prob_c}')"
   ]
  },
  {
   "cell_type": "markdown",
   "metadata": {},
   "source": [
    "## 4. Bayesian Analysis \n",
    "\n",
    "Suppose you work for a landscaping company, and they want to advertise their service online. They create an ad and sit back waiting for the money to roll in. On the first day, the ad sends 100 visitors to the site and 14 of them sign up for landscaping services. Create a generative model to come up with the posterior distribution and produce a visualization of what the posterior distribution would look like given the observed data."
   ]
  },
  {
   "cell_type": "code",
   "execution_count": 41,
   "metadata": {},
   "outputs": [],
   "source": [
    "def generative_model(proba_subs):\n",
    "    subs = np.random.binomial(100, proba_subs)\n",
    "    return subs\n",
    "\n",
    "\n",
    "n_sends = 100_000\n",
    "prior = pd.Series(np.random.uniform(0, 1, size=n_sends))\n",
    "\n",
    "subs_page = []\n",
    "for i in prior:\n",
    "    subs_page.append(generative_model(i))"
   ]
  },
  {
   "cell_type": "markdown",
   "metadata": {},
   "source": [
    "Obtenemos una distribucion Uniforme"
   ]
  },
  {
   "cell_type": "markdown",
   "metadata": {},
   "source": [
    "Produce a set of descriptive statistics for the posterior distribution."
   ]
  },
  {
   "cell_type": "code",
   "execution_count": 42,
   "metadata": {},
   "outputs": [
    {
     "data": {
      "text/plain": [
       "<AxesSubplot:ylabel='Count'>"
      ]
     },
     "execution_count": 42,
     "metadata": {},
     "output_type": "execute_result"
    },
    {
     "data": {
      "image/png": "[encoded data removed]",
      "text/plain": [
       "<Figure size 432x288 with 1 Axes>"
      ]
     },
     "metadata": {
      "needs_background": "light"
     },
     "output_type": "display_data"
    }
   ],
   "source": [
    "posteriori = prior[list(map(lambda x: x==14, subs_page))]\n",
    "sns.histplot(posteriori, kde=True)"
   ]
  },
  {
   "cell_type": "markdown",
   "metadata": {},
   "source": [
    "What is the 90% credible interval range?"
   ]
  },
  {
   "cell_type": "code",
   "execution_count": 43,
   "metadata": {},
   "outputs": [
    {
     "name": "stdout",
     "output_type": "stream",
     "text": [
      "(-inf, 0.19122953329080777)\n"
     ]
    }
   ],
   "source": [
    "# Intervalos de confianza del 90% izquierda\n",
    "print(f'(-inf, {np.quantile(posteriori, 0.9)})')"
   ]
  },
  {
   "cell_type": "code",
   "execution_count": 44,
   "metadata": {},
   "outputs": [
    {
     "name": "stdout",
     "output_type": "stream",
     "text": [
      "(0.103207820237051, inf)\n"
     ]
    }
   ],
   "source": [
    "# Intervalos de confianza del 90% derecha\n",
    "print(f'({np.quantile(posteriori, 0.1)}, inf)')"
   ]
  },
  {
   "cell_type": "code",
   "execution_count": 45,
   "metadata": {},
   "outputs": [
    {
     "name": "stdout",
     "output_type": "stream",
     "text": [
      "0.0943068763719174, 0.20368452241594717\n"
     ]
    }
   ],
   "source": [
    "# Intervalos de confianza del 90% central\n",
    "print(f'{np.quantile(posteriori, 0.05)}, {np.quantile(posteriori, 0.95)}')"
   ]
  },
  {
   "cell_type": "markdown",
   "metadata": {},
   "source": [
    "What is the Maximum Likelihood Estimate?"
   ]
  },
  {
   "cell_type": "code",
   "execution_count": 46,
   "metadata": {},
   "outputs": [
    {
     "data": {
      "text/plain": [
       "0.14795797830973084"
      ]
     },
     "execution_count": 46,
     "metadata": {},
     "output_type": "execute_result"
    }
   ],
   "source": [
    "np.mean(posteriori) # El posteriori"
   ]
  },
  {
   "cell_type": "code",
   "execution_count": null,
   "metadata": {},
   "outputs": [],
   "source": []
  }
 ],
 "metadata": {
  "kernelspec": {
   "display_name": "Python 3",
   "language": "python",
   "name": "python3"
  },
  "language_info": {
   "codemirror_mode": {
    "name": "ipython",
    "version": 3
   },
   "file_extension": ".py",
   "mimetype": "text/x-python",
   "name": "python",
   "nbconvert_exporter": "python",
   "pygments_lexer": "ipython3",
   "version": "3.8.8"
  }
 },
 "nbformat": 4,
 "nbformat_minor": 2
}
