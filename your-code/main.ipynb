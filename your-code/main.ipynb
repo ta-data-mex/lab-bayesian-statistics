{
 "cells": [
  {
   "cell_type": "markdown",
   "metadata": {},
   "source": [
    "# Intro to Bayesian Statistics Lab\n",
    "\n",
    "Complete the following set of exercises to solidify your knowledge of Bayesian statistics and Bayesian data analysis."
   ]
  },
  {
   "cell_type": "code",
   "execution_count": 4,
   "metadata": {},
   "outputs": [],
   "source": [
    "# Import the libraries\n",
    "import pandas as pd\n",
    "import numpy as np\n",
    "import matplotlib.pyplot as plt"
   ]
  },
  {
   "cell_type": "markdown",
   "metadata": {},
   "source": [
    "## 1. Cookie Problem\n",
    "\n",
    "Suppose we have two bowls of cookies. Bowl 1 contains 30 vanilla cookies and 10 chocolate cookies. Bowl 2 contains 20 of each. You randomly pick one cookie out of one of the bowls, and it is vanilla. Use Bayes Theorem to calculate the probability that the vanilla cookie you picked came from Bowl 1?"
   ]
  },
  {
   "cell_type": "code",
   "execution_count": null,
   "metadata": {},
   "outputs": [],
   "source": [
    "# Define a function for the bayes_rule\n",
    "\n",
    "def bayes_rule(priors, likelihoods):\n",
    "    post = np.divide(np.multiply(priors, likelihoods), sum(np.multiply(priors, likelihoods)))\n",
    "    return post"
   ]
  },
  {
   "cell_type": "code",
   "execution_count": 37,
   "metadata": {},
   "outputs": [
    {
     "name": "stdout",
     "output_type": "stream",
     "text": [
      "The probability of the vanilla cookie being in bowl 1 is: 0.6\n"
     ]
    }
   ],
   "source": [
    "# Obtain the number of cookies for each bowl \n",
    "priors = np.array([40/80,40/80])\n",
    "\n",
    "# Obtain the proportions of vanilla cookies on each bowl \n",
    "likelihoods = np.array([30/40,20/40])\n",
    "\n",
    "# Determine the probability with the given information\n",
    "bowls_prob = bayes_rule(priors, likelihoods)\n",
    "\n",
    "print(f'The probability of the vanilla cookie being in bowl 1 is: {bowls_prob[0]}')"
   ]
  },
  {
   "cell_type": "markdown",
   "metadata": {},
   "source": [
    "What is the probability that it came from Bowl 2?"
   ]
  },
  {
   "cell_type": "code",
   "execution_count": 38,
   "metadata": {},
   "outputs": [
    {
     "name": "stdout",
     "output_type": "stream",
     "text": [
      "The probability of the vanilla cookie being in bowl 2 is: 0.4\n"
     ]
    }
   ],
   "source": [
    "print(f'The probability of the vanilla cookie being in bowl 2 is: {bowls_prob[1]}')"
   ]
  },
  {
   "cell_type": "markdown",
   "metadata": {},
   "source": [
    "What if the cookie you had picked was chocolate? What are the probabilities that the chocolate cookie came from Bowl 1 and Bowl 2 respectively?"
   ]
  },
  {
   "cell_type": "code",
   "execution_count": 41,
   "metadata": {},
   "outputs": [
    {
     "name": "stdout",
     "output_type": "stream",
     "text": [
      "The probability of chocolate cookie being in bowl 1: 0.3333333333333333\n",
      "The probability of chocolate cookie being in bowl 2: 0.6666666666666666\n"
     ]
    }
   ],
   "source": [
    "# Since the likelihoods are the proportions and there are only two types \n",
    "# of cookies, we can substract one by the likelihoods to obtain the desired\n",
    "# values.\n",
    "\n",
    "bowls_prob = bayes_rule(priors, 1-likelihoods)\n",
    "\n",
    "print(f'The probability of chocolate cookie being in bowl 1: {bowls_prob[0]}')\n",
    "print(f'The probability of chocolate cookie being in bowl 2: {bowls_prob[1]}')"
   ]
  },
  {
   "cell_type": "markdown",
   "metadata": {},
   "source": [
    "## 2. Candy Problem\n",
    "\n",
    "Suppose you have two bags of candies:\n",
    "\n",
    "- In Bag 1, the mix of colors is:\n",
    "    - Brown - 30%\n",
    "    - Yellow - 20%\n",
    "    - Red - 20%\n",
    "    - Green - 10%\n",
    "    - Orange - 10%\n",
    "    - Tan - 10%\n",
    "    \n",
    "- In Bag 2, the mix of colors is:\n",
    "    - Blue - 24%\n",
    "    - Green - 20%\n",
    "    - Orange - 16%\n",
    "    - Yellow - 14%\n",
    "    - Red - 13%\n",
    "    - Brown - 13%\n",
    "    \n",
    "Not knowing which bag is which, you randomly draw one candy from each bag. One is yellow and one is green. What is the probability that the yellow one came from the Bag 1?\n",
    "\n",
    "*Hint: For the likelihoods, you will need to multiply the probabilities of drawing yellow from one bag and green from the other bag and vice versa.*"
   ]
  },
  {
   "cell_type": "code",
   "execution_count": 21,
   "metadata": {},
   "outputs": [
    {
     "name": "stdout",
     "output_type": "stream",
     "text": [
      "Probability yellow came from gab 1: 0.7407407407407408\n"
     ]
    }
   ],
   "source": [
    "# We have two bags so there is a 50%-50% of grabbing a candy from them\n",
    "priors = np.array([1/2,1/2])\n",
    "\n",
    "# The proportions are different for each bag, therefore the probability\n",
    "# of drawing a yellow color of bag 1 and a green of bag 2 is computed for\n",
    "# the first vector, then the same is done now first for bag 2 and then bag 1.\n",
    "\n",
    "likelihoods = np.array([.2*.2,.1*.14])\n",
    "\n",
    "ans = bayes_rule(priors, likelihoods)\n",
    "print(f'Probability yellow came from bag 1: {ans[0]}')"
   ]
  },
  {
   "cell_type": "markdown",
   "metadata": {},
   "source": [
    "What is the probability that the yellow candy came from Bag 2?"
   ]
  },
  {
   "cell_type": "code",
   "execution_count": 22,
   "metadata": {},
   "outputs": [
    {
     "name": "stdout",
     "output_type": "stream",
     "text": [
      "Probability yellow came from bag 1: 0.25925925925925924\n"
     ]
    }
   ],
   "source": [
    "print(f'Probability yellow came from bag 2: {ans[1]}')"
   ]
  },
  {
   "cell_type": "markdown",
   "metadata": {},
   "source": [
    "What are the probabilities that the green one came from Bag 1 and Bag 2 respectively?"
   ]
  },
  {
   "cell_type": "code",
   "execution_count": 25,
   "metadata": {},
   "outputs": [
    {
     "name": "stdout",
     "output_type": "stream",
     "text": [
      "Probability grren came from bag 1 and bag 2 respectively: [0.25925926 0.74074074]\n"
     ]
    }
   ],
   "source": [
    "# They should be the same but complementary, because the procedure is the same\n",
    "\n",
    "print(f'Probability grren came from bag 1 and bag 2 respectively: {1-ans}')"
   ]
  },
  {
   "cell_type": "markdown",
   "metadata": {},
   "source": [
    "## 3. Monty Hall Problem\n",
    "\n",
    "Suppose you are a contestant on the popular game show *Let's Make a Deal*. The host of the show (Monty Hall) presents you with three doors - Door A, Door B, and Door C. He tells you that there is a sports car behind one of them and if you choose the correct one, you win the car!\n",
    "\n",
    "You select Door A, but then Monty makes things a little more interesting. He opens Door B to reveal that there is no sports car behind it and asks you if you would like to stick with your choice of Door A or switch your choice to Door C. Given this new information, what are the probabilities of you winning the car if you stick with Door A versus if you switch to Door C?"
   ]
  },
  {
   "cell_type": "code",
   "execution_count": 36,
   "metadata": {},
   "outputs": [
    {
     "data": {
      "text/plain": [
       "array([0.33333333, 0.        , 0.66666667])"
      ]
     },
     "execution_count": 36,
     "metadata": {},
     "output_type": "execute_result"
    }
   ],
   "source": [
    "# At the beggining one has\n",
    "priors = [1/3,1/3,1/3]\n",
    "likelihoods=[1,1,1]\n",
    "\n",
    "# However, after showing the other door, the likelyhoods change:\n",
    "# If the car is behind DoorA, Monty will show goat behind door 2 half the time\n",
    "# If the car is behind doorB, Monty NEVER show us a goat behind Door B, \n",
    "# finally if the car is behind Door C, monty show us a goat behind Door B\n",
    "# everytime\n",
    "\n",
    "likelihoods=[1/2,0,1]\n",
    "ans = bayes_rule(priors, likelihoods)\n",
    "ans\n",
    "\n",
    "# Door A has a probability of 1/3, door C has a probability of 2/3"
   ]
  },
  {
   "cell_type": "markdown",
   "metadata": {},
   "source": [
    "## 4. Bayesian Analysis \n",
    "\n",
    "Suppose you work for a landscaping company, and they want to advertise their service online. They create an ad and sit back waiting for the money to roll in. On the first day, the ad sends 100 visitors to the site and 14 of them sign up for landscaping services. Create a generative model to come up with the posterior distribution and produce a visualization of what the posterior distribution would look like given the observed data."
   ]
  },
  {
   "cell_type": "code",
   "execution_count": 70,
   "metadata": {},
   "outputs": [
    {
     "data": {
      "image/png": "[encoded data removed]",
      "text/plain": [
       "<Figure size 432x288 with 1 Axes>"
      ]
     },
     "metadata": {
      "needs_background": "light"
     },
     "output_type": "display_data"
    }
   ],
   "source": [
    "\n",
    "# We start with the asumption that at the beggining the sign up for land\n",
    "# scaping services are equally likely\n",
    "s=100000\n",
    "prior = pd.Series(np.random.uniform(0,1,size=s))\n",
    "plt.hist(prior)\n",
    "plt.show()\n",
    "\n",
    "generative_model = lambda x: np.random.binomial(100, x)\n",
    "\n",
    "# 100 people came to the site and 14 of them singed up. \n",
    "observed = 14\n",
    "\n",
    "# Create a list that contains the simulated results:\n",
    "sim_data = [generative_model(p) for p in prior]\n",
    "\n",
    "# Posterior distribution will only select the values \n",
    "# from the prior distribution that generated inntances where the result\n",
    "# matched the observed result of 14 purahces\n",
    "posterior = prior[list(map(lambda x: x==observed, sim_data))]"
   ]
  },
  {
   "cell_type": "markdown",
   "metadata": {},
   "source": [
    "Produce a set of descriptive statistics for the posterior distribution."
   ]
  },
  {
   "cell_type": "code",
   "execution_count": 72,
   "metadata": {},
   "outputs": [
    {
     "data": {
      "image/png": "[encoded data removed]",
      "text/plain": [
       "<Figure size 432x288 with 1 Axes>"
      ]
     },
     "metadata": {
      "needs_background": "light"
     },
     "output_type": "display_data"
    },
    {
     "data": {
      "text/plain": [
       "count    1013.000000\n",
       "mean        0.148662\n",
       "std         0.035436\n",
       "min         0.056481\n",
       "25%         0.123329\n",
       "50%         0.145458\n",
       "75%         0.172565\n",
       "max         0.291160\n",
       "dtype: float64"
      ]
     },
     "execution_count": 72,
     "metadata": {},
     "output_type": "execute_result"
    }
   ],
   "source": [
    "posterior.hist()\n",
    "plt.show()\n",
    "\n",
    "# THe probability of someone making a purchase is likely between 10% and\n",
    "# 20% being more likely to be at 14%.\n",
    "posterior.describe()"
   ]
  },
  {
   "cell_type": "code",
   "execution_count": null,
   "metadata": {},
   "outputs": [],
   "source": [
    "# The mean and median are apprixmately in 14"
   ]
  },
  {
   "cell_type": "markdown",
   "metadata": {},
   "source": [
    "What is the 90% credible interval range?"
   ]
  },
  {
   "cell_type": "code",
   "execution_count": 75,
   "metadata": {},
   "outputs": [
    {
     "name": "stdout",
     "output_type": "stream",
     "text": [
      "0.09415243763772532 | 0.2087679217723295\n"
     ]
    }
   ],
   "source": [
    "# We need to have 5% from one tail and other 5% from the other, obtaining\n",
    "print(posterior.quantile(.05), '|', posterior.quantile(.95))"
   ]
  },
  {
   "cell_type": "markdown",
   "metadata": {},
   "source": [
    "What is the Maximum Likelihood Estimate?"
   ]
  },
  {
   "cell_type": "code",
   "execution_count": 77,
   "metadata": {},
   "outputs": [
    {
     "name": "stdout",
     "output_type": "stream",
     "text": [
      "Maximum Likelihood Estimate:  0.14 | 0.12043435340572557\n"
     ]
    }
   ],
   "source": [
    "rounded = posterior.round(2)\n",
    "mode = posterior.round(2).mode()[0]\n",
    "probability = list(rounded).count(mode)/len(rounded)\n",
    "print('Maximum Likelihood Estimate: ', mode, '|',probability)"
   ]
  }
 ],
 "metadata": {
  "kernelspec": {
   "display_name": "Python 3",
   "language": "python",
   "name": "python3"
  },
  "language_info": {
   "codemirror_mode": {
    "name": "ipython",
    "version": 3
   },
   "file_extension": ".py",
   "mimetype": "text/x-python",
   "name": "python",
   "nbconvert_exporter": "python",
   "pygments_lexer": "ipython3",
   "version": "3.7.1"
  }
 },
 "nbformat": 4,
 "nbformat_minor": 2
}
