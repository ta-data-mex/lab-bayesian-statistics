{
  "nbformat": 4,
  "nbformat_minor": 0,
  "metadata": {
    "kernelspec": {
      "display_name": "Python 3",
      "language": "python",
      "name": "python3"
    },
    "language_info": {
      "codemirror_mode": {
        "name": "ipython",
        "version": 3
      },
      "file_extension": ".py",
      "mimetype": "text/x-python",
      "name": "python",
      "nbconvert_exporter": "python",
      "pygments_lexer": "ipython3",
      "version": "3.7.2"
    },
    "colab": {
      "name": "main.ipynb",
      "provenance": [],
      "collapsed_sections": [],
      "include_colab_link": true
    }
  },
  "cells": [
    {
      "cell_type": "markdown",
      "metadata": {
        "id": "view-in-github",
        "colab_type": "text"
      },
      "source": [
        "<a href=\"https://colab.research.google.com/github/juanmanuelvillacis/lab-bayesian-statistics/blob/master/main.ipynb\" target=\"_parent\"><img src=\"https://colab.research.google.com/assets/colab-badge.svg\" alt=\"Open In Colab\"/></a>"
      ]
    },
    {
      "cell_type": "markdown",
      "metadata": {
        "id": "OTKDcqBF-WUT"
      },
      "source": [
        "# Intro to Bayesian Statistics Lab\n",
        "\n",
        "Complete the following set of exercises to solidify your knowledge of Bayesian statistics and Bayesian data analysis."
      ]
    },
    {
      "cell_type": "code",
      "metadata": {
        "id": "qd2gTJ8B-WUd"
      },
      "source": [
        "import pandas as pd\n",
        "import numpy as np\n",
        "import matplotlib.pyplot as plt"
      ],
      "execution_count": 2,
      "outputs": []
    },
    {
      "cell_type": "code",
      "metadata": {
        "id": "1Pmxe0_yaCU5"
      },
      "source": [
        "\n",
        "def bayes(priori, verosimilitud): # P(A), P(B|A)\n",
        "    marginal=sum(np.multiply(priori, verosimilitud)) # P(B)\n",
        "    posteriori=np.divide(np.multiply(priori, verosimilitud), marginal) # P(A|B)\n",
        "    return posteriori"
      ],
      "execution_count": 16,
      "outputs": []
    },
    {
      "cell_type": "markdown",
      "metadata": {
        "id": "FPJ6dal7-WUe"
      },
      "source": [
        "## 1. Cookie Problem\n",
        "\n",
        "Suppose we have two bowls of cookies. Bowl 1 contains 30 vanilla cookies and 10 chocolate cookies. Bowl 2 contains 20 of each. You randomly pick one cookie out of one of the bowls, and it is vanilla. Use Bayes Theorem to calculate the probability that the vanilla cookie you picked came from Bowl 1?"
      ]
    },
    {
      "cell_type": "markdown",
      "metadata": {
        "id": "SfAcpvPwBMAa"
      },
      "source": [
        "$P(Caja1 | Vanilla)=\\frac{P(Vanilla|Caja1)P(Caja1)}{P(Vanilla)}$ \\\\\n",
        "$P(Vanilla | Caja1)=3/4$ \\\\\n",
        "$ P(Vanilla|Caja2)=1/2$ \\\\\n",
        "$P(Caja1)=1/2$ \\\\\n",
        "$P(Caja2)=1/2$ \\\\\n",
        "$P(Vanilla)=P(Vanilla|Caja1)P(Caja1) + P(Vanilla|Caja2)P(Caja2)=3/4*1/2 + 1/2*1/2 = 3/8 + 1/4 = 5/8$\n",
        "\n",
        "$P(Caja1 | Vanilla)= \\frac{3/4*1/2}{5/8}=24/40 = 3/5$"
      ]
    },
    {
      "cell_type": "markdown",
      "metadata": {
        "id": "sp96GW2M-WUf"
      },
      "source": [
        "What is the probability that it came from Bowl 2?"
      ]
    },
    {
      "cell_type": "markdown",
      "metadata": {
        "id": "t2jrjM-bCmhD"
      },
      "source": [
        "$P(Caja2 | Vanilla)=\\frac{P(Vanilla|Caja2)P(Caja2)}{P(Vanilla)}$ \\\\\n",
        "$P(Vanilla | Caja1)=3/4$ \\\\\n",
        "$ P(Vanilla|Caja2)=1/2$ \\\\\n",
        "$P(Caja1)=1/2$ \\\\\n",
        "$P(Caja2)=1/2$ \\\\\n",
        "$P(Vanilla)=P(Vanilla|Caja2)P(Caja2) + P(Vanilla|Caja1)P(Caja1)=1/2*1/2 + 3/4*1/2 = 3/8 + 1/4 = 5/8$\n",
        "\n",
        "$P(Caja2 | Vanilla)= \\frac{1/2*1/2}{5/8}=\\frac{1/4}{5/8}=8/20 = 2/5$"
      ]
    },
    {
      "cell_type": "markdown",
      "metadata": {
        "id": "hX0qMCsQ-WUh"
      },
      "source": [
        "What if the cookie you had picked was chocolate? What are the probabilities that the chocolate cookie came from Bowl 1 and Bowl 2 respectively?"
      ]
    },
    {
      "cell_type": "markdown",
      "metadata": {
        "id": "iUbnAI5RD3O6"
      },
      "source": [
        "$P(Caja1 | Chocolate)=\\frac{P(Chocolate|Caja1)P(Caja1)}{P(Chocolate)}$ \\\\\n",
        "$P(Chocolate | Caja1)=1/4$ \\\\\n",
        "$ P(Chocolate|Caja2)=1/2$ \\\\\n",
        "$P(Caja1)=1/2$ \\\\\n",
        "$P(Caja2)=1/2$ \\\\\n",
        "$P(Chocolate)=P(Chocolate|Caja1)P(Caja1) + P(Chocolate|Caja2)P(Caja2)=1/4*1/2 + 1/2*1/2 = 1/2 + 1/4 = 3/8$\n",
        "\n",
        "$P(Caja2 | Chocolate)= \\frac{1/2*1/2}{3/8}=\\frac{1/4}{3/8}=8/12 = 2/3$"
      ]
    },
    {
      "cell_type": "markdown",
      "metadata": {
        "id": "qqyPuWCTG2E5"
      },
      "source": [
        "$P(Caja1 | Chocolate)=\\frac{P(Chocolate|Caja1)P(Caja1)}{P(Chocolate)}$ \\\\\n",
        "$P(Chocolate | Caja1)=1/4$ \\\\\n",
        "$ P(Chocolate|Caja2)=1/2$ \\\\\n",
        "$P(Caja1)=1/2$ \\\\\n",
        "$P(Caja2)=1/2$ \\\\\n",
        "$P(Chocolate)=P(Chocolate|Caja1)P(Caja1) + P(Chocolate|Caja2)P(Caja2)=1/4*1/2 + 1/2*1/2 = 1/2 + 1/4 = 3/8$\n",
        "\n",
        "$P(Caja1 | Chocolate)= \\frac{1/4*1/2}{3/8}=\\frac{1/8}{3/8}=8/24 = 1/3$"
      ]
    },
    {
      "cell_type": "markdown",
      "metadata": {
        "id": "4Ql5zbaz-WUi"
      },
      "source": [
        "## 2. Candy Problem\n",
        "\n",
        "Suppose you have two bags of candies:\n",
        "\n",
        "- In Bag 1, the mix of colors is:\n",
        "    - Brown - 30%\n",
        "    - Yellow - 20%\n",
        "    - Red - 20%\n",
        "    - Green - 10%\n",
        "    - Orange - 10%\n",
        "    - Tan - 10%\n",
        "    \n",
        "- In Bag 2, the mix of colors is:\n",
        "    - Blue - 24%\n",
        "    - Green - 20%\n",
        "    - Orange - 16%\n",
        "    - Yellow - 14%\n",
        "    - Red - 13%\n",
        "    - Brown - 13%\n",
        "    \n",
        "Not knowing which bag is which, you randomly draw one candy from each bag. One is yellow and one is green. What is the probability that the yellow one came from the Bag 1?\n",
        "\n",
        "*Hint: For the likelihoods, you will need to multiply the probabilities of drawing yellow from one bag and green from the other bag and vice versa.*"
      ]
    },
    {
      "cell_type": "markdown",
      "metadata": {
        "id": "Ie5yZpdDHvXA"
      },
      "source": [
        "$P(Bag1 | yellow)=\\frac{P(Yellow|Bag1)P(Bag1)}{P(Yellow)}$ \\\\\n",
        "$P(yellow | Bag1)=0.2$ \\\\\n",
        "$ P(yellow|Bag2)=0.14$ \\\\\n",
        "$P(Caja1)=1/2$ \\\\\n",
        "$P(Caja2)=1/2$ \\\\\n",
        "$P(Yellow)=P(Yellow|Bag1)P(Bag1) + P(yellow|Bag2)P(Bag2)=0.2*0.5 + 0.14*0.5 = 0.1 + 0.07 = 0.17$\n",
        "\n",
        "$P(Bag2 | Yellow)= \\frac{0.14*0.5}{0.17}=\\frac{0.07}{0.17}=0.41$\n",
        "$P(Bag1 | Yellow)= \\frac{0.2*0.5}{0.17}=\\frac{0.1}{0.17}=0.58$\n",
        "\n",
        "$P(Bag1 | Green)=\\frac{P(Green|Bag1)P(Bag1)}{P(Green)}$ \\\\\n",
        "$P(Green | Bag1)=0.1$ \\\\\n",
        "$ P(Geen|Bag2)=0.2$ \\\\\n",
        "$P(Bag1)=1/2$ \\\\\n",
        "$P(Bag2)=1/2$ \\\\\n",
        "$P(Green)=P(Green|Bag1)P(Bag1) + P(Green|Bag2)P(Bag2)=0.1*0.5 + 0.2*0.5 = = 0.15$\n",
        "\n",
        "$P(Bag2 | Green)= \\frac{0.2*0.5}{0.15}=0.66$\n",
        "$P(Bag1 | Green)= \\frac{0.1*0.5}{0.15}=0.33$\n",
        "\n",
        "$P(Bag2 | Green) * $P(Bag1 | Yellow) = 0.66*0.58 = 0.3866\n",
        "$P(Bag1 | Green) * $P(Bag2 | Yellow) = 0.33*0.0.41 = 0.1353\n",
        "\n",
        "0.3364 * 0.1353 = 0.045"
      ]
    },
    {
      "cell_type": "code",
      "metadata": {
        "id": "XlI5thO-aWLC"
      },
      "source": [
        "prioris=[1/2, 1/2]\n",
        "\n",
        "v_marron=[0.3, 0.13]\n",
        "v_amarillo=[0.2, 0.14]\n",
        "v_rojo=[0.2, 0.13]\n",
        "v_verde=[0.1, 0.2]\n",
        "v_naranja=[0.1, 0.16]\n",
        "v_mandarina=[0.1, 0]\n",
        "v_azul=[0, 0.24]"
      ],
      "execution_count": 19,
      "outputs": []
    },
    {
      "cell_type": "code",
      "metadata": {
        "colab": {
          "base_uri": "https://localhost:8080/"
        },
        "id": "Hfo9-23w-WUk",
        "outputId": "96a608c3-32cd-4484-9e10-97baf70475bd"
      },
      "source": [
        "bayes(prioris, [v_amarillo[0]*v_verde[1], v_amarillo[1]*v_verde[0]])"
      ],
      "execution_count": 20,
      "outputs": [
        {
          "output_type": "execute_result",
          "data": {
            "text/plain": [
              "array([0.74074074, 0.25925926])"
            ]
          },
          "metadata": {},
          "execution_count": 20
        }
      ]
    },
    {
      "cell_type": "markdown",
      "metadata": {
        "id": "2Wkqjvg7-WUk"
      },
      "source": [
        "What is the probability that the yellow candy came from Bag 2?"
      ]
    },
    {
      "cell_type": "code",
      "metadata": {
        "colab": {
          "base_uri": "https://localhost:8080/"
        },
        "id": "2-oS5KN6-WUl",
        "outputId": "dcff9725-94e5-4b47-faba-a6e29c8f6824"
      },
      "source": [
        "\n",
        "bayes(prioris, [v_amarillo[0]*v_verde[1], v_amarillo[1]*v_verde[0]])[1]"
      ],
      "execution_count": 21,
      "outputs": [
        {
          "output_type": "execute_result",
          "data": {
            "text/plain": [
              "0.25925925925925924"
            ]
          },
          "metadata": {},
          "execution_count": 21
        }
      ]
    },
    {
      "cell_type": "markdown",
      "metadata": {
        "id": "i5aR_oTI-WUl"
      },
      "source": [
        "What are the probabilities that the green one came from Bag 1 and Bag 2 respectively?"
      ]
    },
    {
      "cell_type": "code",
      "metadata": {
        "colab": {
          "base_uri": "https://localhost:8080/"
        },
        "id": "7Yr9BJXT-WUm",
        "outputId": "057f50a8-1c4c-489c-a836-df6105a96428"
      },
      "source": [
        "\n",
        "1-bayes(prioris, [v_amarillo[0]*v_verde[1], v_amarillo[1]*v_verde[0]])"
      ],
      "execution_count": 22,
      "outputs": [
        {
          "output_type": "execute_result",
          "data": {
            "text/plain": [
              "array([0.25925926, 0.74074074])"
            ]
          },
          "metadata": {},
          "execution_count": 22
        }
      ]
    },
    {
      "cell_type": "markdown",
      "metadata": {
        "id": "dJfJ1MUm-WUn"
      },
      "source": [
        "## 3. Monty Hall Problem\n",
        "\n",
        "Suppose you are a contestant on the popular game show *Let's Make a Deal*. The host of the show (Monty Hall) presents you with three doors - Door A, Door B, and Door C. He tells you that there is a sports car behind one of them and if you choose the correct one, you win the car!\n",
        "\n",
        "You select Door A, but then Monty makes things a little more interesting. He opens Door B to reveal that there is no sports car behind it and asks you if you would like to stick with your choice of Door A or switch your choice to Door C. Given this new information, what are the probabilities of you winning the car if you stick with Door A versus if you switch to Door C?"
      ]
    },
    {
      "cell_type": "code",
      "metadata": {
        "colab": {
          "base_uri": "https://localhost:8080/"
        },
        "id": "41LOodTr-WUo",
        "outputId": "00e7b904-8d9a-40fd-c485-781a542cd5ea"
      },
      "source": [
        "prioris=[1/3, 1/3, 1/3]\n",
        "vero=[0, 1, 1/2]\n",
        "\n",
        "bayes(prioris, vero)"
      ],
      "execution_count": 17,
      "outputs": [
        {
          "output_type": "execute_result",
          "data": {
            "text/plain": [
              "array([0.        , 0.66666667, 0.33333333])"
            ]
          },
          "metadata": {},
          "execution_count": 17
        }
      ]
    },
    {
      "cell_type": "markdown",
      "metadata": {
        "id": "C5VXVH_8-WUo"
      },
      "source": [
        "## 4. Bayesian Analysis \n",
        "\n",
        "Suppose you work for a landscaping company, and they want to advertise their service online. They create an ad and sit back waiting for the money to roll in. On the first day, the ad sends 100 visitors to the site and 14 of them sign up for landscaping services. Create a generative model to come up with the posterior distribution and produce a visualization of what the posterior distribution would look like given the observed data."
      ]
    },
    {
      "cell_type": "code",
      "metadata": {
        "id": "yhqjvzFn-WUp"
      },
      "source": [
        "def generative_model(proba_compra):\n",
        "  compraron = np.random.binomial(100, proba_compra)\n",
        "  return compraron"
      ],
      "execution_count": 4,
      "outputs": []
    },
    {
      "cell_type": "code",
      "metadata": {
        "id": "yyLmum-JVKbs"
      },
      "source": [
        "priori = pd.Series(np.random.uniform(0,1,size=10_000))"
      ],
      "execution_count": 13,
      "outputs": []
    },
    {
      "cell_type": "markdown",
      "metadata": {
        "id": "hfswg5Ud-WUp"
      },
      "source": [
        "Produce a set of descriptive statistics for the posterior distribution."
      ]
    },
    {
      "cell_type": "code",
      "metadata": {
        "colab": {
          "base_uri": "https://localhost:8080/"
        },
        "id": "KziF-XGA-WUu",
        "outputId": "305d04e0-2125-4b6b-f4bd-9e5b99ac2030"
      },
      "source": [
        "res = list()\n",
        "for i in priori:\n",
        "  res.append(generative_model(i))\n",
        "res[:10]"
      ],
      "execution_count": 14,
      "outputs": [
        {
          "output_type": "execute_result",
          "data": {
            "text/plain": [
              "[32, 2, 91, 32, 88, 5, 95, 1, 43, 18]"
            ]
          },
          "metadata": {},
          "execution_count": 14
        }
      ]
    },
    {
      "cell_type": "code",
      "metadata": {
        "colab": {
          "base_uri": "https://localhost:8080/",
          "height": 282
        },
        "id": "k2Ab1NgyWAHJ",
        "outputId": "5e0ede56-1278-4c71-e840-d23e4574e75f"
      },
      "source": [
        "posteriori = prior[list(map(lambda x:x ==14, res))]\n",
        "posteriori.hist()"
      ],
      "execution_count": 11,
      "outputs": [
        {
          "output_type": "execute_result",
          "data": {
            "text/plain": [
              "<matplotlib.axes._subplots.AxesSubplot at 0x7f6a7f03e2d0>"
            ]
          },
          "metadata": {},
          "execution_count": 11
        },
        {
          "output_type": "display_data",
          "data": {
            "image/png": "[encoded data removed]",
            "text/plain": [
              "<Figure size 432x288 with 1 Axes>"
            ]
          },
          "metadata": {
            "needs_background": "light"
          }
        }
      ]
    },
    {
      "cell_type": "markdown",
      "metadata": {
        "id": "07NwAZi9-WUu"
      },
      "source": [
        "What is the 90% credible interval range?"
      ]
    },
    {
      "cell_type": "code",
      "metadata": {
        "colab": {
          "base_uri": "https://localhost:8080/"
        },
        "id": "_OS-hqNv-WUu",
        "outputId": "19804c09-fa44-447f-897f-455de343a09d"
      },
      "source": [
        "posteriori.quantile(0.025) , posteriori.quantile(0.975)"
      ],
      "execution_count": 12,
      "outputs": [
        {
          "output_type": "execute_result",
          "data": {
            "text/plain": [
              "(0.09116964765495832, 0.21917474781213192)"
            ]
          },
          "metadata": {},
          "execution_count": 12
        }
      ]
    },
    {
      "cell_type": "markdown",
      "metadata": {
        "id": "bhMihXU6-WUv"
      },
      "source": [
        "What is the Maximum Likelihood Estimate?"
      ]
    },
    {
      "cell_type": "code",
      "metadata": {
        "colab": {
          "base_uri": "https://localhost:8080/"
        },
        "id": "gIBBe_ig-WUv",
        "outputId": "e9c70a11-faf4-43fe-c941-75243e352d54"
      },
      "source": [
        "moda=posteriori.round(2).mode()[0]\n",
        "moda"
      ],
      "execution_count": 15,
      "outputs": [
        {
          "output_type": "execute_result",
          "data": {
            "text/plain": [
              "0.14"
            ]
          },
          "metadata": {},
          "execution_count": 15
        }
      ]
    },
    {
      "cell_type": "code",
      "metadata": {
        "id": "ouopDSP6Yx9R"
      },
      "source": [
        ""
      ],
      "execution_count": null,
      "outputs": []
    }
  ]
}